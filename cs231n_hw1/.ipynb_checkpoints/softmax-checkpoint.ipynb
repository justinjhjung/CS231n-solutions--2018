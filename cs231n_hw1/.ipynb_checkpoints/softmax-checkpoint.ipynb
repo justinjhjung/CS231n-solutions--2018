{
 "cells": [
  {
   "cell_type": "markdown",
   "metadata": {},
   "source": [
    "# Softmax exercise\n",
    "\n",
    "*Complete and hand in this completed worksheet (including its outputs and any supporting code outside of the worksheet) with your assignment submission. For more details see the [assignments page](http://vision.stanford.edu/teaching/cs231n/assignments.html) on the course website.*\n",
    "\n",
    "This exercise is analogous to the SVM exercise. You will:\n",
    "\n",
    "- implement a fully-vectorized **loss function** for the Softmax classifier\n",
    "- implement the fully-vectorized expression for its **analytic gradient**\n",
    "- **check your implementation** with numerical gradient\n",
    "- use a validation set to **tune the learning rate and regularization** strength\n",
    "- **optimize** the loss function with **SGD**\n",
    "- **visualize** the final learned weights\n"
   ]
  },
  {
   "cell_type": "code",
   "execution_count": 23,
   "metadata": {},
   "outputs": [
    {
     "name": "stdout",
     "output_type": "stream",
     "text": [
      "The autoreload extension is already loaded. To reload it, use:\n",
      "  %reload_ext autoreload\n"
     ]
    }
   ],
   "source": [
    "from __future__ import print_function\n",
    "\n",
    "import random\n",
    "import numpy as np\n",
    "from cs231n.data_utils import load_CIFAR10\n",
    "import matplotlib.pyplot as plt\n",
    "\n",
    "%matplotlib inline\n",
    "plt.rcParams['figure.figsize'] = (10.0, 8.0) # set default size of plots\n",
    "plt.rcParams['image.interpolation'] = 'nearest'\n",
    "plt.rcParams['image.cmap'] = 'gray'\n",
    "\n",
    "# for auto-reloading extenrnal modules\n",
    "# see http://stackoverflow.com/questions/1907993/autoreload-of-modules-in-ipython\n",
    "%load_ext autoreload\n",
    "%autoreload 2"
   ]
  },
  {
   "cell_type": "code",
   "execution_count": 24,
   "metadata": {},
   "outputs": [
    {
     "name": "stdout",
     "output_type": "stream",
     "text": [
      "Clear previously loaded data.\n",
      "Train data shape:  (49000, 3073)\n",
      "Train labels shape:  (49000,)\n",
      "Validation data shape:  (1000, 3073)\n",
      "Validation labels shape:  (1000,)\n",
      "Test data shape:  (1000, 3073)\n",
      "Test labels shape:  (1000,)\n",
      "dev data shape:  (500, 3073)\n",
      "dev labels shape:  (500,)\n"
     ]
    }
   ],
   "source": [
    "def get_CIFAR10_data(num_training=49000, num_validation=1000, num_test=1000, num_dev=500):\n",
    "    \"\"\"\n",
    "    Load the CIFAR-10 dataset from disk and perform preprocessing to prepare\n",
    "    it for the linear classifier. These are the same steps as we used for the\n",
    "    SVM, but condensed to a single function.  \n",
    "    \"\"\"\n",
    "    # Load the raw CIFAR-10 data\n",
    "    cifar10_dir = 'cs231n/datasets/cifar-10-batches-py'\n",
    "    \n",
    "    X_train, y_train, X_test, y_test = load_CIFAR10(cifar10_dir)\n",
    "    \n",
    "    # subsample the data\n",
    "    mask = list(range(num_training, num_training + num_validation))\n",
    "    X_val = X_train[mask]\n",
    "    y_val = y_train[mask]\n",
    "    mask = list(range(num_training))\n",
    "    X_train = X_train[mask]\n",
    "    y_train = y_train[mask]\n",
    "    mask = list(range(num_test))\n",
    "    X_test = X_test[mask]\n",
    "    y_test = y_test[mask]\n",
    "    mask = np.random.choice(num_training, num_dev, replace=False)\n",
    "    X_dev = X_train[mask]\n",
    "    y_dev = y_train[mask]\n",
    "    \n",
    "    # Preprocessing: reshape the image data into rows\n",
    "    X_train = np.reshape(X_train, (X_train.shape[0], -1))\n",
    "    X_val = np.reshape(X_val, (X_val.shape[0], -1))\n",
    "    X_test = np.reshape(X_test, (X_test.shape[0], -1))\n",
    "    X_dev = np.reshape(X_dev, (X_dev.shape[0], -1))\n",
    "    \n",
    "    # Normalize the data: subtract the mean image\n",
    "    mean_image = np.mean(X_train, axis = 0)\n",
    "    X_train -= mean_image\n",
    "    X_val -= mean_image\n",
    "    X_test -= mean_image\n",
    "    X_dev -= mean_image\n",
    "    \n",
    "    # add bias dimension and transform into columns\n",
    "    X_train = np.hstack([X_train, np.ones((X_train.shape[0], 1))])\n",
    "    X_val = np.hstack([X_val, np.ones((X_val.shape[0], 1))])\n",
    "    X_test = np.hstack([X_test, np.ones((X_test.shape[0], 1))])\n",
    "    X_dev = np.hstack([X_dev, np.ones((X_dev.shape[0], 1))])\n",
    "    \n",
    "    return X_train, y_train, X_val, y_val, X_test, y_test, X_dev, y_dev\n",
    "\n",
    "\n",
    "# Cleaning up variables to prevent loading data multiple times (which may cause memory issue)\n",
    "try:\n",
    "    del X_train, y_train\n",
    "    del X_test, y_test\n",
    "    print('Clear previously loaded data.')\n",
    "except:\n",
    "    pass\n",
    "\n",
    "# Invoke the above function to get our data.\n",
    "X_train, y_train, X_val, y_val, X_test, y_test, X_dev, y_dev = get_CIFAR10_data()\n",
    "print('Train data shape: ', X_train.shape)\n",
    "print('Train labels shape: ', y_train.shape)\n",
    "print('Validation data shape: ', X_val.shape)\n",
    "print('Validation labels shape: ', y_val.shape)\n",
    "print('Test data shape: ', X_test.shape)\n",
    "print('Test labels shape: ', y_test.shape)\n",
    "print('dev data shape: ', X_dev.shape)\n",
    "print('dev labels shape: ', y_dev.shape)"
   ]
  },
  {
   "cell_type": "markdown",
   "metadata": {},
   "source": [
    "## Softmax Classifier\n",
    "\n",
    "Your code for this section will all be written inside **cs231n/classifiers/softmax.py**. \n"
   ]
  },
  {
   "cell_type": "code",
   "execution_count": 25,
   "metadata": {},
   "outputs": [
    {
     "name": "stdout",
     "output_type": "stream",
     "text": [
      "loss: 2.401331\n",
      "sanity check: 2.302585\n"
     ]
    }
   ],
   "source": [
    "# First implement the naive softmax loss function with nested loops.\n",
    "# Open the file cs231n/classifiers/softmax.py and implement the\n",
    "# softmax_loss_naive function.\n",
    "\n",
    "from cs231n.classifiers.softmax import softmax_loss_naive\n",
    "import time\n",
    "\n",
    "# Generate a random softmax weight matrix and use it to compute the loss.\n",
    "W = np.random.randn(3073, 10) * 0.0001\n",
    "loss, grad = softmax_loss_naive(W, X_dev, y_dev, 0.0)\n",
    "\n",
    "# As a rough sanity check, our loss should be something close to -log(0.1).\n",
    "print('loss: %f' % loss)\n",
    "print('sanity check: %f' % (-np.log(0.1)))"
   ]
  },
  {
   "cell_type": "markdown",
   "metadata": {},
   "source": [
    "## Inline Question 1:\n",
    "Why do we expect our loss to be close to -log(0.1)? Explain briefly.**\n",
    "\n",
    "**Your answer:** We have 10 classes, and the equation is the exponential of one true class divided by the sum of exponential for 10 classes. The probability of us to accidentally get the real class right is 1 over 10, hence, -np.log(1/10).\n"
   ]
  },
  {
   "cell_type": "code",
   "execution_count": 26,
   "metadata": {},
   "outputs": [
    {
     "name": "stdout",
     "output_type": "stream",
     "text": [
      "numerical: 2.532235 analytic: 2.532235, relative error: 2.745693e-08\n",
      "numerical: -0.908695 analytic: -0.908695, relative error: 1.293257e-08\n",
      "numerical: -2.224924 analytic: -2.224925, relative error: 6.318919e-09\n",
      "numerical: -1.202114 analytic: -1.202114, relative error: 2.442650e-09\n",
      "numerical: -4.129097 analytic: -4.129097, relative error: 2.556040e-08\n",
      "numerical: 1.137704 analytic: 1.137704, relative error: 2.742522e-08\n",
      "numerical: -0.008959 analytic: -0.008959, relative error: 1.019815e-06\n",
      "numerical: 1.258903 analytic: 1.258903, relative error: 1.852279e-08\n",
      "numerical: 0.734196 analytic: 0.734196, relative error: 9.321856e-08\n",
      "numerical: 1.233428 analytic: 1.233428, relative error: 2.839148e-08\n",
      "numerical: 0.937564 analytic: 0.937564, relative error: 1.222233e-08\n",
      "numerical: 2.639337 analytic: 2.639337, relative error: 2.632762e-08\n",
      "numerical: 2.018935 analytic: 2.018935, relative error: 4.840285e-08\n",
      "numerical: -3.325041 analytic: -3.325041, relative error: 1.721490e-08\n",
      "numerical: 0.257661 analytic: 0.257661, relative error: 2.595068e-07\n",
      "numerical: -0.741868 analytic: -0.741868, relative error: 7.582849e-08\n",
      "numerical: 1.784091 analytic: 1.784091, relative error: 5.504359e-08\n",
      "numerical: -4.015064 analytic: -4.015064, relative error: 9.227118e-09\n",
      "numerical: 1.485078 analytic: 1.485078, relative error: 7.341928e-09\n",
      "numerical: -3.456102 analytic: -3.456103, relative error: 1.404231e-08\n"
     ]
    }
   ],
   "source": [
    "# Complete the implementation of softmax_loss_naive and implement a (naive)\n",
    "# version of the gradient that uses nested loops.\n",
    "loss, grad = softmax_loss_naive(W, X_dev, y_dev, 0.0)\n",
    "\n",
    "# As we did for the SVM, use numeric gradient checking as a debugging tool.\n",
    "# The numeric gradient should be close to the analytic gradient.\n",
    "from cs231n.gradient_check import grad_check_sparse\n",
    "f = lambda w: softmax_loss_naive(w, X_dev, y_dev, 0.0)[0]\n",
    "grad_numerical = grad_check_sparse(f, W, grad, 10)\n",
    "\n",
    "# similar to SVM case, do another gradient check with regularization\n",
    "loss, grad = softmax_loss_naive(W, X_dev, y_dev, 5e1)\n",
    "f = lambda w: softmax_loss_naive(w, X_dev, y_dev, 5e1)[0]\n",
    "grad_numerical = grad_check_sparse(f, W, grad, 10)"
   ]
  },
  {
   "cell_type": "code",
   "execution_count": 27,
   "metadata": {},
   "outputs": [
    {
     "name": "stdout",
     "output_type": "stream",
     "text": [
      "naive loss: 2.401331e+00 computed in 0.295430s\n",
      "vectorized loss: 2.401331e+00 computed in 0.006842s\n",
      "Loss difference: 0.000000\n",
      "Gradient difference: 0.000000\n"
     ]
    }
   ],
   "source": [
    "# Now that we have a naive implementation of the softmax loss function and its gradient,\n",
    "# implement a vectorized version in softmax_loss_vectorized.\n",
    "# The two versions should compute the same results, but the vectorized version should be\n",
    "# much faster.\n",
    "tic = time.time()\n",
    "loss_naive, grad_naive = softmax_loss_naive(W, X_dev, y_dev, 0.000005)\n",
    "toc = time.time()\n",
    "print('naive loss: %e computed in %fs' % (loss_naive, toc - tic))\n",
    "\n",
    "from cs231n.classifiers.softmax import softmax_loss_vectorized\n",
    "tic = time.time()\n",
    "loss_vectorized, grad_vectorized = softmax_loss_vectorized(W, X_dev, y_dev, 0.000005)\n",
    "toc = time.time()\n",
    "print('vectorized loss: %e computed in %fs' % (loss_vectorized, toc - tic))\n",
    "\n",
    "# As we did for the SVM, we use the Frobenius norm to compare the two versions\n",
    "# of the gradient.\n",
    "grad_difference = np.linalg.norm(grad_naive - grad_vectorized, ord='fro')\n",
    "print('Loss difference: %f' % np.abs(loss_naive - loss_vectorized))\n",
    "print('Gradient difference: %f' % grad_difference)"
   ]
  },
  {
   "cell_type": "code",
   "execution_count": 31,
   "metadata": {},
   "outputs": [
    {
     "name": "stdout",
     "output_type": "stream",
     "text": [
      "Beat the original validation accuracy of -1 with 0.251\n",
      "Beat the original validation accuracy of 0.251 with 0.274\n",
      "Beat the original validation accuracy of 0.274 with 0.306\n",
      "Beat the original validation accuracy of 0.306 with 0.328\n",
      "Beat the original validation accuracy of 0.328 with 0.333\n",
      "Beat the original validation accuracy of 0.333 with 0.338\n",
      "Beat the original validation accuracy of 0.338 with 0.344\n",
      "Beat the original validation accuracy of 0.344 with 0.361\n",
      "Beat the original validation accuracy of 0.361 with 0.382\n",
      "Beat the original validation accuracy of 0.382 with 0.383\n",
      "Beat the original validation accuracy of 0.383 with 0.395\n",
      "lr 1.000000e-07 reg 2.500000e+04 train accuracy: 0.242163 val accuracy: 0.251000\n",
      "lr 2.000000e-07 reg 2.459184e+04 train accuracy: 0.276061 val accuracy: 0.274000\n",
      "lr 3.000000e-07 reg 2.418367e+04 train accuracy: 0.297122 val accuracy: 0.306000\n",
      "lr 4.000000e-07 reg 2.377551e+04 train accuracy: 0.306878 val accuracy: 0.293000\n",
      "lr 5.000000e-07 reg 2.336735e+04 train accuracy: 0.317327 val accuracy: 0.328000\n",
      "lr 6.000000e-07 reg 2.295918e+04 train accuracy: 0.319388 val accuracy: 0.333000\n",
      "lr 7.000000e-07 reg 2.255102e+04 train accuracy: 0.331755 val accuracy: 0.338000\n",
      "lr 8.000000e-07 reg 2.214286e+04 train accuracy: 0.339837 val accuracy: 0.344000\n",
      "lr 9.000000e-07 reg 2.173469e+04 train accuracy: 0.337388 val accuracy: 0.340000\n",
      "lr 1.000000e-06 reg 2.132653e+04 train accuracy: 0.351245 val accuracy: 0.338000\n",
      "lr 1.100000e-06 reg 2.091837e+04 train accuracy: 0.351327 val accuracy: 0.338000\n",
      "lr 1.200000e-06 reg 2.051020e+04 train accuracy: 0.357959 val accuracy: 0.344000\n",
      "lr 1.300000e-06 reg 2.010204e+04 train accuracy: 0.360306 val accuracy: 0.361000\n",
      "lr 1.400000e-06 reg 1.969388e+04 train accuracy: 0.362408 val accuracy: 0.349000\n",
      "lr 1.500000e-06 reg 1.928571e+04 train accuracy: 0.363184 val accuracy: 0.358000\n",
      "lr 1.600000e-06 reg 1.887755e+04 train accuracy: 0.367857 val accuracy: 0.341000\n",
      "lr 1.700000e-06 reg 1.846939e+04 train accuracy: 0.366388 val accuracy: 0.382000\n",
      "lr 1.800000e-06 reg 1.806122e+04 train accuracy: 0.371265 val accuracy: 0.353000\n",
      "lr 1.900000e-06 reg 1.765306e+04 train accuracy: 0.368388 val accuracy: 0.375000\n",
      "lr 2.000000e-06 reg 1.724490e+04 train accuracy: 0.368020 val accuracy: 0.359000\n",
      "lr 2.100000e-06 reg 1.683673e+04 train accuracy: 0.374694 val accuracy: 0.373000\n",
      "lr 2.200000e-06 reg 1.642857e+04 train accuracy: 0.377306 val accuracy: 0.371000\n",
      "lr 2.300000e-06 reg 1.602041e+04 train accuracy: 0.378531 val accuracy: 0.376000\n",
      "lr 2.400000e-06 reg 1.561224e+04 train accuracy: 0.381306 val accuracy: 0.357000\n",
      "lr 2.500000e-06 reg 1.520408e+04 train accuracy: 0.384265 val accuracy: 0.378000\n",
      "lr 2.600000e-06 reg 1.479592e+04 train accuracy: 0.387204 val accuracy: 0.379000\n",
      "lr 2.700000e-06 reg 1.438776e+04 train accuracy: 0.381673 val accuracy: 0.366000\n",
      "lr 2.800000e-06 reg 1.397959e+04 train accuracy: 0.386429 val accuracy: 0.383000\n",
      "lr 2.900000e-06 reg 1.357143e+04 train accuracy: 0.374571 val accuracy: 0.355000\n",
      "lr 3.000000e-06 reg 1.316327e+04 train accuracy: 0.374612 val accuracy: 0.355000\n",
      "lr 3.100000e-06 reg 1.275510e+04 train accuracy: 0.385224 val accuracy: 0.371000\n",
      "lr 3.200000e-06 reg 1.234694e+04 train accuracy: 0.379306 val accuracy: 0.359000\n",
      "lr 3.300000e-06 reg 1.193878e+04 train accuracy: 0.387143 val accuracy: 0.360000\n",
      "lr 3.400000e-06 reg 1.153061e+04 train accuracy: 0.389388 val accuracy: 0.382000\n",
      "lr 3.500000e-06 reg 1.112245e+04 train accuracy: 0.395694 val accuracy: 0.395000\n",
      "lr 3.600000e-06 reg 1.071429e+04 train accuracy: 0.385714 val accuracy: 0.374000\n",
      "lr 3.700000e-06 reg 1.030612e+04 train accuracy: 0.393020 val accuracy: 0.367000\n",
      "lr 3.800000e-06 reg 9.897959e+03 train accuracy: 0.384286 val accuracy: 0.362000\n",
      "lr 3.900000e-06 reg 9.489796e+03 train accuracy: 0.380878 val accuracy: 0.359000\n",
      "lr 4.000000e-06 reg 9.081633e+03 train accuracy: 0.389816 val accuracy: 0.352000\n",
      "lr 4.100000e-06 reg 8.673469e+03 train accuracy: 0.381980 val accuracy: 0.366000\n",
      "lr 4.200000e-06 reg 8.265306e+03 train accuracy: 0.393286 val accuracy: 0.361000\n",
      "lr 4.300000e-06 reg 7.857143e+03 train accuracy: 0.383918 val accuracy: 0.353000\n",
      "lr 4.400000e-06 reg 7.448980e+03 train accuracy: 0.386673 val accuracy: 0.365000\n",
      "lr 4.500000e-06 reg 7.040816e+03 train accuracy: 0.386816 val accuracy: 0.358000\n",
      "lr 4.600000e-06 reg 6.632653e+03 train accuracy: 0.383755 val accuracy: 0.341000\n",
      "lr 4.700000e-06 reg 6.224490e+03 train accuracy: 0.396102 val accuracy: 0.379000\n",
      "lr 4.800000e-06 reg 5.816327e+03 train accuracy: 0.385837 val accuracy: 0.379000\n",
      "lr 4.900000e-06 reg 5.408163e+03 train accuracy: 0.395408 val accuracy: 0.358000\n",
      "lr 5.000000e-06 reg 5.000000e+03 train accuracy: 0.385755 val accuracy: 0.374000\n",
      "best validation accuracy achieved during cross-validation: 0.395000\n"
     ]
    }
   ],
   "source": [
    "# Use the validation set to tune hyperparameters (regularization strength and\n",
    "# learning rate). You should experiment with different ranges for the learning\n",
    "# rates and regularization strengths; if you are careful you should be able to\n",
    "# get a classification accuracy of over 0.35 on the validation set.\n",
    "from cs231n.classifiers import Softmax\n",
    "results = {}\n",
    "best_val = -1\n",
    "best_softmax = None\n",
    "learning_rates = [1e-7, 5e-6]\n",
    "regularization_strengths = [2.5e4, 5e3]\n",
    "\n",
    "################################################################################\n",
    "# TODO:                                                                        #\n",
    "# Use the validation set to set the learning rate and regularization strength. #\n",
    "# This should be identical to the validation that you did for the SVM; save    #\n",
    "# the best trained softmax classifer in best_softmax.                          #\n",
    "################################################################################\n",
    "def get_accuracy(lr_, reg_):\n",
    "    # Train the model\n",
    "    softmax = Softmax()\n",
    "    _ = softmax.train(X_train, y_train, learning_rate=lr_, reg=reg_,\n",
    "                      num_iters=1500, verbose=False)\n",
    "    \n",
    "    # Get Accuracies\n",
    "    ytrain_pred = softmax.predict(X_train) # Train data prediction\n",
    "    yval_pred = softmax.predict(X_val) # Validation data prediction\n",
    "    train_accuracy = np.mean(y_train == ytrain_pred)\n",
    "    val_accuracy = np.mean(y_val == yval_pred)\n",
    "    \n",
    "    return softmax, (train_accuracy, val_accuracy) \n",
    "\n",
    "lr_array = np.linspace(learning_rates[0], learning_rates[1], 50)\n",
    "reg_array = np.linspace(regularization_strengths[0], regularization_strengths[1], 50)\n",
    "\n",
    "for lr, reg in zip(lr_array, reg_array):\n",
    "    softmax, (train_acc, val_acc) = get_accuracy(lr, reg)\n",
    "    results[(lr, reg)] = train_acc, val_acc\n",
    "    val_accuracy = val_acc\n",
    "    \n",
    "    if best_val < val_accuracy:\n",
    "        print(\"Beat the original validation accuracy of {} with {}\".format(best_val, val_accuracy))\n",
    "        best_softmax = softmax\n",
    "        best_val = val_accuracy\n",
    "################################################################################\n",
    "#                              END OF YOUR CODE                                #\n",
    "################################################################################\n",
    "    \n",
    "# Print out results.\n",
    "for lr, reg in sorted(results):\n",
    "    train_accuracy, val_accuracy = results[(lr, reg)]\n",
    "    print('lr %e reg %e train accuracy: %f val accuracy: %f' % (\n",
    "                lr, reg, train_accuracy, val_accuracy))\n",
    "    \n",
    "print('best validation accuracy achieved during cross-validation: %f' % best_val)"
   ]
  },
  {
   "cell_type": "code",
   "execution_count": 32,
   "metadata": {},
   "outputs": [
    {
     "name": "stdout",
     "output_type": "stream",
     "text": [
      "softmax on raw pixels final test set accuracy: 0.360000\n"
     ]
    }
   ],
   "source": [
    "# evaluate on test set\n",
    "# Evaluate the best softmax on test set\n",
    "y_test_pred = best_softmax.predict(X_test)\n",
    "test_accuracy = np.mean(y_test == y_test_pred)\n",
    "print('softmax on raw pixels final test set accuracy: %f' % (test_accuracy, ))"
   ]
  },
  {
   "cell_type": "markdown",
   "metadata": {},
   "source": [
    "**Inline Question** - *True or False*\n",
    "\n",
    "It's possible to add a new datapoint to a training set that would leave the SVM loss unchanged, but this is not the case with the Softmax classifier loss.\n",
    "\n",
    "*Your answer*: True\n",
    "\n",
    "*Your explanation*: Linear SVM has a padding of delta from the classification line, which has some room that does not really change the loss. However, for softmax, adding some new datapoints means that probability will be totally changed which would make the loss to be changed entirely."
   ]
  },
  {
   "cell_type": "code",
   "execution_count": 33,
   "metadata": {},
   "outputs": [
    {
     "data": {
      "image/png": "[encoded data removed]",
      "text/plain": [
       "<Figure size 720x576 with 10 Axes>"
      ]
     },
     "metadata": {
      "needs_background": "light"
     },
     "output_type": "display_data"
    }
   ],
   "source": [
    "# Visualize the learned weights for each class\n",
    "w = best_softmax.W[:-1,:] # strip out the bias\n",
    "w = w.reshape(32, 32, 3, 10)\n",
    "\n",
    "w_min, w_max = np.min(w), np.max(w)\n",
    "\n",
    "classes = ['plane', 'car', 'bird', 'cat', 'deer', 'dog', 'frog', 'horse', 'ship', 'truck']\n",
    "for i in range(10):\n",
    "    plt.subplot(2, 5, i + 1)\n",
    "    \n",
    "    # Rescale the weights to be between 0 and 255\n",
    "    wimg = 255.0 * (w[:, :, :, i].squeeze() - w_min) / (w_max - w_min)\n",
    "    plt.imshow(wimg.astype('uint8'))\n",
    "    plt.axis('off')\n",
    "    plt.title(classes[i])"
   ]
  },
  {
   "cell_type": "code",
   "execution_count": null,
   "metadata": {},
   "outputs": [],
   "source": []
  }
 ],
 "metadata": {
  "kernelspec": {
   "display_name": "Python 3",
   "language": "python",
   "name": "python3"
  },
  "language_info": {
   "codemirror_mode": {
    "name": "ipython",
    "version": 3
   },
   "file_extension": ".py",
   "mimetype": "text/x-python",
   "name": "python",
   "nbconvert_exporter": "python",
   "pygments_lexer": "ipython3",
   "version": "3.6.7"
  }
 },
 "nbformat": 4,
 "nbformat_minor": 2
}
